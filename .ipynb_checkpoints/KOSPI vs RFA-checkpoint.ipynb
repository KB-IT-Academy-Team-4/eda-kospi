{
 "cells": [
  {
   "cell_type": "code",
   "execution_count": 15,
   "id": "0c99b946",
   "metadata": {},
   "outputs": [
    {
     "name": "stdout",
     "output_type": "stream",
     "text": [
      "Requirement already satisfied: PyMySQL in c:\\users\\lww74\\appdata\\local\\programs\\python\\python310\\lib\\site-packages (1.0.2)\n"
     ]
    }
   ],
   "source": [
    "# !pip install pandas\n",
    "# !pip install pandas-datareader\n",
    "# !pip install numpy\n",
    "# !pip install matplotlib\n",
    "# !pip install seaborn\n",
    "!pip install PyMySQL\n",
    "# !pip install pykrx\n",
    "# !pip install html_table_parser\n",
    "# !pip install beautifulsoup4"
   ]
  },
  {
   "cell_type": "code",
   "execution_count": 18,
   "id": "b2e2e855",
   "metadata": {},
   "outputs": [],
   "source": [
    "import pandas as pd\n",
    "import pandas_datareader as pdr\n",
    "import numpy as np\n",
    "import matplotlib.pyplot as plt\n",
    "import seaborn as sns\n",
    "# import pymysql\n",
    "import time\n",
    "\n",
    "from pykrx import stock\n",
    "from datetime import datetime\n",
    "from urllib.request import urlopen\n",
    "from bs4 import BeautifulSoup\n",
    "# from html_table_parser import parser_functions as parser"
   ]
  },
  {
   "cell_type": "code",
   "execution_count": 19,
   "id": "db915ea6",
   "metadata": {},
   "outputs": [],
   "source": [
    "# Data Load\n",
    "kospi_df = stock.get_index_fundamental(\"20000101\", \"20220922\", \"1001\") # KOSPI\n",
    "gold_df  = pdr.DataReader('GC=F', 'yahoo', datetime(2000,1,1), datetime(2022,9,25)) # Gold\n",
    "oil_df   = pdr.DataReader('CL=F', 'yahoo', datetime(2000,1,1), datetime(2022,9,25)) # Crude Oil\n",
    "kr_base_rate_df = pd.read_csv('./Korea_basemoney_rate.csv').T # Korea Basemoney Rate"
   ]
  },
  {
   "cell_type": "code",
   "execution_count": 28,
   "id": "4087ab7e",
   "metadata": {},
   "outputs": [
    {
     "data": {
      "text/plain": [
       "Rate    float64\n",
       "dtype: object"
      ]
     },
     "execution_count": 28,
     "metadata": {},
     "output_type": "execute_result"
    }
   ],
   "source": [
    "# Preprocessing\n",
    "\n",
    "# KOSPI\n",
    "kospi_end_df = kospi_df[['종가']]\n",
    "kospi_end_df = kospi_end_df.reset_index(drop=False)\n",
    "kospi_end_df.rename(columns={'날짜':'Date', '종가':'Close'}, inplace=True)\n",
    "kospi_end_df = kospi_end_df.set_index('Date')\n",
    "\n",
    "# Gold\n",
    "gold_end_df = gold_df[['Close']]\n",
    "\n",
    "# Crude Oil\n",
    "oil_end_df = oil_df[['Close']]\n",
    "\n",
    "# Korea Basemoney Rate\n",
    "kr_base_rate_df = kr_base_rate_df.iloc[4:]\n",
    "kr_base_rate_df = kr_base_rate_df.reset_index()\n",
    "kr_base_rate_df.columns = ['Date', 'Rate']\n",
    "kr_base_rate_df = kr_base_rate_df.set_index('Date')\n",
    "kr_base_rate_df = kr_base_rate_df.astype({'Rate':'float'})"
   ]
  },
  {
   "cell_type": "code",
   "execution_count": null,
   "id": "52a6a0bf",
   "metadata": {},
   "outputs": [],
   "source": [
    "# Visualization\n",
    "plt.rcParams['font.family'] = 'Malgun Gothic' # 한글깨짐 방지\n",
    "# plt.rcParams['axes.unicode_minus'] = False # 마이너스 깨짐 방지\n",
    "plt.figure( figsize=(16, 10)) # 그래프 크기 조절\n",
    "\n",
    "\n",
    "# sns.lineplot(\n",
    "#     data=kospi_end_df,\n",
    "#     x = 'Date',\n",
    "#     y = 'Close'\n",
    "# )\n",
    "\n",
    "# sns.lineplot(\n",
    "#     data=gold_end_df,\n",
    "#     x = 'Date',\n",
    "#     y = 'Close'\n",
    "# )\n",
    "\n",
    "# sns.lineplot(\n",
    "#     data=oil_end_df,\n",
    "#     x = 'Date',\n",
    "#     y = 'Close'\n",
    "# )\n",
    "\n",
    "sns.lineplot(\n",
    "    data=kr_base_rate_df,\n",
    "    x = 'Date',\n",
    "    y = 'Rate'\n",
    ")\n",
    "\n",
    "# sns.set(font_scale=1) # 폰트 크기 지정, 전역설정 반복 불가\n",
    "plt.xlabel('날짜', fontsize=20) # x축 레이블 이름 지정\n",
    "plt.ylabel('값', fontsize=20) # y축 레이블 이름 지정\n",
    "# plt.legend(fontsize=8, loc='best') # 범례\n",
    "# kospi_graph.set_title('코스피지수 (2000년 ~ 현재)', fontsize=20)\n",
    "\n",
    "sns.set_style('whitegrid') # 하얀색 바탕 격자\n",
    "plt.show()"
   ]
  },
  {
   "cell_type": "code",
   "execution_count": null,
   "id": "8257aa01",
   "metadata": {},
   "outputs": [],
   "source": []
  }
 ],
 "metadata": {
  "kernelspec": {
   "display_name": "Python 3 (ipykernel)",
   "language": "python",
   "name": "python3"
  },
  "language_info": {
   "codemirror_mode": {
    "name": "ipython",
    "version": 3
   },
   "file_extension": ".py",
   "mimetype": "text/x-python",
   "name": "python",
   "nbconvert_exporter": "python",
   "pygments_lexer": "ipython3",
   "version": "3.9.12"
  }
 },
 "nbformat": 4,
 "nbformat_minor": 5
}
